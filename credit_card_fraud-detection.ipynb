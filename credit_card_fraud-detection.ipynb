{
 "cells": [
  {
   "cell_type": "code",
   "execution_count": 1,
   "id": "e88b7d10-71c6-4e11-bedd-25f2c01f0ce9",
   "metadata": {},
   "outputs": [
    {
     "name": "stdout",
     "output_type": "stream",
     "text": [
      "Requirement already satisfied: pandas in c:\\users\\india\\anaconda3\\lib\\site-packages (2.2.2)\n",
      "Requirement already satisfied: numpy in c:\\users\\india\\anaconda3\\lib\\site-packages (1.26.4)\n",
      "Requirement already satisfied: scikit-learn in c:\\users\\india\\anaconda3\\lib\\site-packages (1.5.1)\n",
      "Requirement already satisfied: imbalanced-learn in c:\\users\\india\\anaconda3\\lib\\site-packages (0.12.3)\n",
      "Requirement already satisfied: matplotlib in c:\\users\\india\\anaconda3\\lib\\site-packages (3.9.2)\n",
      "Collecting xgboost\n",
      "  Downloading xgboost-3.0.4-py3-none-win_amd64.whl.metadata (2.1 kB)\n",
      "Collecting shap\n",
      "  Downloading shap-0.48.0-cp312-cp312-win_amd64.whl.metadata (25 kB)\n",
      "Requirement already satisfied: python-dateutil>=2.8.2 in c:\\users\\india\\anaconda3\\lib\\site-packages (from pandas) (2.9.0.post0)\n",
      "Requirement already satisfied: pytz>=2020.1 in c:\\users\\india\\anaconda3\\lib\\site-packages (from pandas) (2024.1)\n",
      "Requirement already satisfied: tzdata>=2022.7 in c:\\users\\india\\anaconda3\\lib\\site-packages (from pandas) (2023.3)\n",
      "Requirement already satisfied: scipy>=1.6.0 in c:\\users\\india\\anaconda3\\lib\\site-packages (from scikit-learn) (1.13.1)\n",
      "Requirement already satisfied: joblib>=1.2.0 in c:\\users\\india\\anaconda3\\lib\\site-packages (from scikit-learn) (1.4.2)\n",
      "Requirement already satisfied: threadpoolctl>=3.1.0 in c:\\users\\india\\anaconda3\\lib\\site-packages (from scikit-learn) (3.5.0)\n",
      "Requirement already satisfied: contourpy>=1.0.1 in c:\\users\\india\\anaconda3\\lib\\site-packages (from matplotlib) (1.2.0)\n",
      "Requirement already satisfied: cycler>=0.10 in c:\\users\\india\\anaconda3\\lib\\site-packages (from matplotlib) (0.11.0)\n",
      "Requirement already satisfied: fonttools>=4.22.0 in c:\\users\\india\\anaconda3\\lib\\site-packages (from matplotlib) (4.51.0)\n",
      "Requirement already satisfied: kiwisolver>=1.3.1 in c:\\users\\india\\anaconda3\\lib\\site-packages (from matplotlib) (1.4.4)\n",
      "Requirement already satisfied: packaging>=20.0 in c:\\users\\india\\anaconda3\\lib\\site-packages (from matplotlib) (24.1)\n",
      "Requirement already satisfied: pillow>=8 in c:\\users\\india\\anaconda3\\lib\\site-packages (from matplotlib) (10.4.0)\n",
      "Requirement already satisfied: pyparsing>=2.3.1 in c:\\users\\india\\anaconda3\\lib\\site-packages (from matplotlib) (3.1.2)\n",
      "Requirement already satisfied: tqdm>=4.27.0 in c:\\users\\india\\anaconda3\\lib\\site-packages (from shap) (4.66.5)\n",
      "Collecting slicer==0.0.8 (from shap)\n",
      "  Downloading slicer-0.0.8-py3-none-any.whl.metadata (4.0 kB)\n",
      "Requirement already satisfied: numba>=0.54 in c:\\users\\india\\anaconda3\\lib\\site-packages (from shap) (0.60.0)\n",
      "Requirement already satisfied: cloudpickle in c:\\users\\india\\anaconda3\\lib\\site-packages (from shap) (3.0.0)\n",
      "Requirement already satisfied: typing-extensions in c:\\users\\india\\anaconda3\\lib\\site-packages (from shap) (4.11.0)\n",
      "Requirement already satisfied: llvmlite<0.44,>=0.43.0dev0 in c:\\users\\india\\anaconda3\\lib\\site-packages (from numba>=0.54->shap) (0.43.0)\n",
      "Requirement already satisfied: six>=1.5 in c:\\users\\india\\anaconda3\\lib\\site-packages (from python-dateutil>=2.8.2->pandas) (1.16.0)\n",
      "Requirement already satisfied: colorama in c:\\users\\india\\anaconda3\\lib\\site-packages (from tqdm>=4.27.0->shap) (0.4.6)\n",
      "Downloading xgboost-3.0.4-py3-none-win_amd64.whl (56.8 MB)\n",
      "   ---------------------------------------- 0.0/56.8 MB ? eta -:--:--\n",
      "   ---------------------------------------- 0.3/56.8 MB ? eta -:--:--\n",
      "    --------------------------------------- 0.8/56.8 MB 1.8 MB/s eta 0:00:32\n",
      "   - -------------------------------------- 2.6/56.8 MB 4.6 MB/s eta 0:00:12\n",
      "   --- ------------------------------------ 5.0/56.8 MB 6.4 MB/s eta 0:00:09\n",
      "   ---- ----------------------------------- 7.1/56.8 MB 7.4 MB/s eta 0:00:07\n",
      "   ------ --------------------------------- 9.2/56.8 MB 7.7 MB/s eta 0:00:07\n",
      "   -------- ------------------------------- 11.5/56.8 MB 8.2 MB/s eta 0:00:06\n",
      "   --------- ------------------------------ 13.6/56.8 MB 8.6 MB/s eta 0:00:06\n",
      "   ---------- ----------------------------- 15.2/56.8 MB 8.5 MB/s eta 0:00:05\n",
      "   ------------ --------------------------- 17.6/56.8 MB 8.7 MB/s eta 0:00:05\n",
      "   ------------- -------------------------- 19.4/56.8 MB 8.7 MB/s eta 0:00:05\n",
      "   --------------- ------------------------ 21.8/56.8 MB 8.9 MB/s eta 0:00:04\n",
      "   ----------------- ---------------------- 24.4/56.8 MB 9.2 MB/s eta 0:00:04\n",
      "   ------------------- -------------------- 27.5/56.8 MB 9.6 MB/s eta 0:00:04\n",
      "   --------------------- ------------------ 30.1/56.8 MB 9.8 MB/s eta 0:00:03\n",
      "   ----------------------- ---------------- 33.3/56.8 MB 10.2 MB/s eta 0:00:03\n",
      "   ------------------------- -------------- 36.4/56.8 MB 10.4 MB/s eta 0:00:02\n",
      "   --------------------------- ------------ 39.1/56.8 MB 10.6 MB/s eta 0:00:02\n",
      "   ----------------------------- ---------- 41.7/56.8 MB 10.6 MB/s eta 0:00:02\n",
      "   ------------------------------- -------- 44.6/56.8 MB 10.8 MB/s eta 0:00:02\n",
      "   -------------------------------- ------- 46.4/56.8 MB 10.7 MB/s eta 0:00:01\n",
      "   ---------------------------------- ----- 48.5/56.8 MB 10.7 MB/s eta 0:00:01\n",
      "   ------------------------------------ --- 51.4/56.8 MB 10.8 MB/s eta 0:00:01\n",
      "   -------------------------------------- - 54.8/56.8 MB 11.0 MB/s eta 0:00:01\n",
      "   ---------------------------------------  56.6/56.8 MB 11.1 MB/s eta 0:00:01\n",
      "   ---------------------------------------- 56.8/56.8 MB 10.6 MB/s eta 0:00:00\n",
      "Downloading shap-0.48.0-cp312-cp312-win_amd64.whl (545 kB)\n",
      "   ---------------------------------------- 0.0/545.3 kB ? eta -:--:--\n",
      "   ---------------------------------------- 545.3/545.3 kB 9.1 MB/s eta 0:00:00\n",
      "Downloading slicer-0.0.8-py3-none-any.whl (15 kB)\n",
      "Installing collected packages: slicer, xgboost, shap\n",
      "Successfully installed shap-0.48.0 slicer-0.0.8 xgboost-3.0.4\n",
      "Note: you may need to restart the kernel to use updated packages.\n"
     ]
    }
   ],
   "source": [
    "pip install pandas numpy scikit-learn imbalanced-learn matplotlib xgboost shap\n"
   ]
  },
  {
   "cell_type": "code",
   "execution_count": 3,
   "id": "366ef557-b9e8-4e1d-950f-a40e8641b79a",
   "metadata": {},
   "outputs": [],
   "source": [
    "# Basic imports\n",
    "import pandas as pd\n",
    "import numpy as np\n",
    "import matplotlib.pyplot as plt\n",
    "%matplotlib inline\n",
    "\n",
    "from sklearn.model_selection import train_test_split\n",
    "from sklearn.linear_model import LogisticRegression\n",
    "from sklearn.ensemble import RandomForestClassifier\n",
    "from sklearn.metrics import (\n",
    "    roc_auc_score, average_precision_score,\n",
    "    precision_recall_curve, classification_report, confusion_matrix, roc_curve\n",
    ")\n",
    "from sklearn.preprocessing import StandardScaler\n",
    "import joblib\n"
   ]
  },
  {
   "cell_type": "code",
   "execution_count": 13,
   "id": "8b9f692d-ba2d-48b1-9782-b7d504e906b3",
   "metadata": {},
   "outputs": [
    {
     "name": "stdout",
     "output_type": "stream",
     "text": [
      "['.anaconda', '.conda', '.condarc', '.continuum', '.ipynb_checkpoints', '.ipython', '.jupyter', '.matplotlib', '.python_history', '.streamlit', '.vscode', 'anaconda3', 'anaconda_projects', 'AppData', 'Application Data', 'assignment.mlp.ipynb', 'car_and_bike.ipynb', 'Contacts', 'Cookies', 'countryproject.pbix', 'deeplearning.ipynb', 'Documents', 'Dog_&Cat_Task_.ipynb', 'Downloads', 'Favorites', 'Links', 'Local Settings', 'Microsoft', 'MLP_(Binary_class).ipynb', 'MM_Project.ipynb', 'My Documents', 'NetHood', 'NTUSER.DAT', 'ntuser.dat.LOG1', 'ntuser.dat.LOG2', 'NTUSER.DAT{d6f34cd7-3ba8-11f0-a9ae-954785230d33}.TM.blf', 'NTUSER.DAT{d6f34cd7-3ba8-11f0-a9ae-954785230d33}.TMContainer00000000000000000001.regtrans-ms', 'NTUSER.DAT{d6f34cd7-3ba8-11f0-a9ae-954785230d33}.TMContainer00000000000000000002.regtrans-ms', 'ntuser.ini', 'OneDrive', 'PrintHood', 'Recent', 'Roaming', 'Saved Games', 'Searches', 'SendTo', 'Single_Prediction-20250521T102816Z-1-001.zip', 'Start Menu', \"TASK'S.ipynb\", 'Templates', 'Test_Set-20250521T102818Z-1-001.zip', 'Untitled.ipynb', 'Untitled1 (1)nn.ipynb', 'Untitled1.ipynb', 'Untitled2.ipynb', 'Untitled3.ipynb']\n"
     ]
    }
   ],
   "source": [
    "import os\n",
    "print(os.listdir())\n"
   ]
  },
  {
   "cell_type": "code",
   "execution_count": 15,
   "id": "f1dcee1c-7074-4905-a384-9dcb393d620c",
   "metadata": {},
   "outputs": [
    {
     "name": "stdout",
     "output_type": "stream",
     "text": [
      "Shape: (284807, 31)\n"
     ]
    },
    {
     "data": {
      "text/html": [
       "<div>\n",
       "<style scoped>\n",
       "    .dataframe tbody tr th:only-of-type {\n",
       "        vertical-align: middle;\n",
       "    }\n",
       "\n",
       "    .dataframe tbody tr th {\n",
       "        vertical-align: top;\n",
       "    }\n",
       "\n",
       "    .dataframe thead th {\n",
       "        text-align: right;\n",
       "    }\n",
       "</style>\n",
       "<table border=\"1\" class=\"dataframe\">\n",
       "  <thead>\n",
       "    <tr style=\"text-align: right;\">\n",
       "      <th></th>\n",
       "      <th>Time</th>\n",
       "      <th>V1</th>\n",
       "      <th>V2</th>\n",
       "      <th>V3</th>\n",
       "      <th>V4</th>\n",
       "      <th>V5</th>\n",
       "      <th>V6</th>\n",
       "      <th>V7</th>\n",
       "      <th>V8</th>\n",
       "      <th>V9</th>\n",
       "      <th>...</th>\n",
       "      <th>V21</th>\n",
       "      <th>V22</th>\n",
       "      <th>V23</th>\n",
       "      <th>V24</th>\n",
       "      <th>V25</th>\n",
       "      <th>V26</th>\n",
       "      <th>V27</th>\n",
       "      <th>V28</th>\n",
       "      <th>Amount</th>\n",
       "      <th>Class</th>\n",
       "    </tr>\n",
       "  </thead>\n",
       "  <tbody>\n",
       "    <tr>\n",
       "      <th>0</th>\n",
       "      <td>0.0</td>\n",
       "      <td>-1.359807</td>\n",
       "      <td>-0.072781</td>\n",
       "      <td>2.536347</td>\n",
       "      <td>1.378155</td>\n",
       "      <td>-0.338321</td>\n",
       "      <td>0.462388</td>\n",
       "      <td>0.239599</td>\n",
       "      <td>0.098698</td>\n",
       "      <td>0.363787</td>\n",
       "      <td>...</td>\n",
       "      <td>-0.018307</td>\n",
       "      <td>0.277838</td>\n",
       "      <td>-0.110474</td>\n",
       "      <td>0.066928</td>\n",
       "      <td>0.128539</td>\n",
       "      <td>-0.189115</td>\n",
       "      <td>0.133558</td>\n",
       "      <td>-0.021053</td>\n",
       "      <td>149.62</td>\n",
       "      <td>0</td>\n",
       "    </tr>\n",
       "    <tr>\n",
       "      <th>1</th>\n",
       "      <td>0.0</td>\n",
       "      <td>1.191857</td>\n",
       "      <td>0.266151</td>\n",
       "      <td>0.166480</td>\n",
       "      <td>0.448154</td>\n",
       "      <td>0.060018</td>\n",
       "      <td>-0.082361</td>\n",
       "      <td>-0.078803</td>\n",
       "      <td>0.085102</td>\n",
       "      <td>-0.255425</td>\n",
       "      <td>...</td>\n",
       "      <td>-0.225775</td>\n",
       "      <td>-0.638672</td>\n",
       "      <td>0.101288</td>\n",
       "      <td>-0.339846</td>\n",
       "      <td>0.167170</td>\n",
       "      <td>0.125895</td>\n",
       "      <td>-0.008983</td>\n",
       "      <td>0.014724</td>\n",
       "      <td>2.69</td>\n",
       "      <td>0</td>\n",
       "    </tr>\n",
       "    <tr>\n",
       "      <th>2</th>\n",
       "      <td>1.0</td>\n",
       "      <td>-1.358354</td>\n",
       "      <td>-1.340163</td>\n",
       "      <td>1.773209</td>\n",
       "      <td>0.379780</td>\n",
       "      <td>-0.503198</td>\n",
       "      <td>1.800499</td>\n",
       "      <td>0.791461</td>\n",
       "      <td>0.247676</td>\n",
       "      <td>-1.514654</td>\n",
       "      <td>...</td>\n",
       "      <td>0.247998</td>\n",
       "      <td>0.771679</td>\n",
       "      <td>0.909412</td>\n",
       "      <td>-0.689281</td>\n",
       "      <td>-0.327642</td>\n",
       "      <td>-0.139097</td>\n",
       "      <td>-0.055353</td>\n",
       "      <td>-0.059752</td>\n",
       "      <td>378.66</td>\n",
       "      <td>0</td>\n",
       "    </tr>\n",
       "    <tr>\n",
       "      <th>3</th>\n",
       "      <td>1.0</td>\n",
       "      <td>-0.966272</td>\n",
       "      <td>-0.185226</td>\n",
       "      <td>1.792993</td>\n",
       "      <td>-0.863291</td>\n",
       "      <td>-0.010309</td>\n",
       "      <td>1.247203</td>\n",
       "      <td>0.237609</td>\n",
       "      <td>0.377436</td>\n",
       "      <td>-1.387024</td>\n",
       "      <td>...</td>\n",
       "      <td>-0.108300</td>\n",
       "      <td>0.005274</td>\n",
       "      <td>-0.190321</td>\n",
       "      <td>-1.175575</td>\n",
       "      <td>0.647376</td>\n",
       "      <td>-0.221929</td>\n",
       "      <td>0.062723</td>\n",
       "      <td>0.061458</td>\n",
       "      <td>123.50</td>\n",
       "      <td>0</td>\n",
       "    </tr>\n",
       "    <tr>\n",
       "      <th>4</th>\n",
       "      <td>2.0</td>\n",
       "      <td>-1.158233</td>\n",
       "      <td>0.877737</td>\n",
       "      <td>1.548718</td>\n",
       "      <td>0.403034</td>\n",
       "      <td>-0.407193</td>\n",
       "      <td>0.095921</td>\n",
       "      <td>0.592941</td>\n",
       "      <td>-0.270533</td>\n",
       "      <td>0.817739</td>\n",
       "      <td>...</td>\n",
       "      <td>-0.009431</td>\n",
       "      <td>0.798278</td>\n",
       "      <td>-0.137458</td>\n",
       "      <td>0.141267</td>\n",
       "      <td>-0.206010</td>\n",
       "      <td>0.502292</td>\n",
       "      <td>0.219422</td>\n",
       "      <td>0.215153</td>\n",
       "      <td>69.99</td>\n",
       "      <td>0</td>\n",
       "    </tr>\n",
       "  </tbody>\n",
       "</table>\n",
       "<p>5 rows × 31 columns</p>\n",
       "</div>"
      ],
      "text/plain": [
       "   Time        V1        V2        V3        V4        V5        V6        V7  \\\n",
       "0   0.0 -1.359807 -0.072781  2.536347  1.378155 -0.338321  0.462388  0.239599   \n",
       "1   0.0  1.191857  0.266151  0.166480  0.448154  0.060018 -0.082361 -0.078803   \n",
       "2   1.0 -1.358354 -1.340163  1.773209  0.379780 -0.503198  1.800499  0.791461   \n",
       "3   1.0 -0.966272 -0.185226  1.792993 -0.863291 -0.010309  1.247203  0.237609   \n",
       "4   2.0 -1.158233  0.877737  1.548718  0.403034 -0.407193  0.095921  0.592941   \n",
       "\n",
       "         V8        V9  ...       V21       V22       V23       V24       V25  \\\n",
       "0  0.098698  0.363787  ... -0.018307  0.277838 -0.110474  0.066928  0.128539   \n",
       "1  0.085102 -0.255425  ... -0.225775 -0.638672  0.101288 -0.339846  0.167170   \n",
       "2  0.247676 -1.514654  ...  0.247998  0.771679  0.909412 -0.689281 -0.327642   \n",
       "3  0.377436 -1.387024  ... -0.108300  0.005274 -0.190321 -1.175575  0.647376   \n",
       "4 -0.270533  0.817739  ... -0.009431  0.798278 -0.137458  0.141267 -0.206010   \n",
       "\n",
       "        V26       V27       V28  Amount  Class  \n",
       "0 -0.189115  0.133558 -0.021053  149.62      0  \n",
       "1  0.125895 -0.008983  0.014724    2.69      0  \n",
       "2 -0.139097 -0.055353 -0.059752  378.66      0  \n",
       "3 -0.221929  0.062723  0.061458  123.50      0  \n",
       "4  0.502292  0.219422  0.215153   69.99      0  \n",
       "\n",
       "[5 rows x 31 columns]"
      ]
     },
     "execution_count": 15,
     "metadata": {},
     "output_type": "execute_result"
    }
   ],
   "source": [
    "df = pd.read_csv(\"creditcard.csv.zip\")\n",
    "print(\"Shape:\", df.shape)\n",
    "df.head()\n",
    "\n"
   ]
  },
  {
   "cell_type": "code",
   "execution_count": 17,
   "id": "8bee9326-93ed-4e05-aedf-7d80f7dbdb7c",
   "metadata": {},
   "outputs": [
    {
     "name": "stdout",
     "output_type": "stream",
     "text": [
      "Class\n",
      "0    284315\n",
      "1       492\n",
      "Name: count, dtype: int64\n",
      "Fraud rate: 0.001727485630620034\n"
     ]
    }
   ],
   "source": [
    "counts = df['Class'].value_counts().sort_index()\n",
    "print(counts)\n",
    "print(\"Fraud rate:\", df['Class'].mean())\n"
   ]
  },
  {
   "cell_type": "code",
   "execution_count": 19,
   "id": "aaa81067-b517-4581-b226-0c6106b6ae85",
   "metadata": {},
   "outputs": [
    {
     "name": "stdout",
     "output_type": "stream",
     "text": [
      "count    284807.000000\n",
      "mean         88.349619\n",
      "std         250.120109\n",
      "min           0.000000\n",
      "25%           5.600000\n",
      "50%          22.000000\n",
      "75%          77.165000\n",
      "max       25691.160000\n",
      "Name: Amount, dtype: float64\n"
     ]
    },
    {
     "data": {
      "text/plain": [
       "Text(0, 0.5, 'Count')"
      ]
     },
     "execution_count": 19,
     "metadata": {},
     "output_type": "execute_result"
    }
   ],
   "source": [
    "print(df['Amount'].describe())\n",
    "plt.figure(figsize=(6,3))\n",
    "plt.hist(df['Amount'], bins=50, edgecolor='k');\n",
    "plt.title(\"Transaction amount distribution (long tail)\");\n",
    "plt.xlabel(\"Amount\")\n",
    "plt.ylabel(\"Count\")\n"
   ]
  },
  {
   "cell_type": "code",
   "execution_count": 21,
   "id": "e82b1aa6-9352-4e50-98d5-1d462f275497",
   "metadata": {},
   "outputs": [
    {
     "name": "stdout",
     "output_type": "stream",
     "text": [
      "Train: (227845, 30) Test: (56962, 30)\n",
      "Train fraud rate: 0.001729245759178389 Test fraud rate: 0.0017204452090867595\n"
     ]
    }
   ],
   "source": [
    "X = df.drop('Class', axis=1)\n",
    "y = df['Class']\n",
    "\n",
    "X_train, X_test, y_train, y_test = train_test_split(\n",
    "    X, y, test_size=0.20, stratify=y, random_state=42\n",
    ")\n",
    "print(\"Train:\", X_train.shape, \"Test:\", X_test.shape)\n",
    "print(\"Train fraud rate:\", y_train.mean(), \"Test fraud rate:\", y_test.mean())\n"
   ]
  },
  {
   "cell_type": "code",
   "execution_count": 25,
   "id": "23c13fe7-4bc4-4288-8244-ca26490c9e1f",
   "metadata": {},
   "outputs": [],
   "source": [
    "scaler = StandardScaler()\n",
    "# Fit scaler on train Amount only\n",
    "X_train_scaled = X_train.copy()\n",
    "X_test_scaled = X_test.copy()\n",
    "\n",
    "X_train_scaled['Amount'] = scaler.fit_transform(X_train[['Amount']])\n",
    "X_test_scaled['Amount'] = scaler.transform(X_test[['Amount']])\n"
   ]
  },
  {
   "cell_type": "code",
   "execution_count": 33,
   "id": "0af45753-5592-4382-8d59-9245a2040ff0",
   "metadata": {},
   "outputs": [
    {
     "name": "stdout",
     "output_type": "stream",
     "text": [
      "ROC-AUC: 0.9721419993855731\n",
      "PR-AUC: 0.7132448520859688\n",
      "              precision    recall  f1-score   support\n",
      "\n",
      "           0     0.9999    0.9756    0.9876     56864\n",
      "           1     0.0609    0.9184    0.1141        98\n",
      "\n",
      "    accuracy                         0.9755     56962\n",
      "   macro avg     0.5304    0.9470    0.5509     56962\n",
      "weighted avg     0.9982    0.9755    0.9861     56962\n",
      "\n"
     ]
    }
   ],
   "source": [
    "lr = LogisticRegression(max_iter=5000, class_weight='balanced', random_state=42)\n",
    "lr.fit(X_train_scaled, y_train)\n",
    "\n",
    "y_prob_lr = lr.predict_proba(X_test_scaled)[:,1]\n",
    "y_pred_lr = lr.predict(X_test_scaled)\n",
    "\n",
    "print(\"ROC-AUC:\", roc_auc_score(y_test, y_prob_lr))\n",
    "print(\"PR-AUC:\", average_precision_score(y_test, y_prob_lr))\n",
    "print(classification_report(y_test, y_pred_lr, digits=4))\n"
   ]
  },
  {
   "cell_type": "code",
   "execution_count": 28,
   "id": "186883df-2913-429e-8ece-cb2ad8e9bed5",
   "metadata": {},
   "outputs": [
    {
     "data": {
      "image/png": "[encoded data removed]",
      "text/plain": [
       "<Figure size 600x300 with 1 Axes>"
      ]
     },
     "metadata": {},
     "output_type": "display_data"
    },
    {
     "name": "stdout",
     "output_type": "stream",
     "text": [
      "Best threshold by F1: 0.9999996269158535\n"
     ]
    }
   ],
   "source": [
    "precision, recall, thresholds = precision_recall_curve(y_test, y_prob_lr)\n",
    "plt.plot(recall, precision)\n",
    "plt.xlabel(\"Recall\")\n",
    "plt.ylabel(\"Precision\")\n",
    "plt.title(\"Precision-Recall Curve (LogReg)\")\n",
    "plt.show()\n",
    "\n",
    "# Compute F1 for thresholds\n",
    "f1_scores = 2 * precision * recall / (precision + recall + 1e-12)\n",
    "best_idx = np.nanargmax(f1_scores)\n",
    "# thresholds array is shorter by 1 than precision/recall, handle carefully\n",
    "best_threshold = thresholds[best_idx] if best_idx < len(thresholds) else 0.5\n",
    "print(\"Best threshold by F1:\", best_threshold)\n"
   ]
  },
  {
   "cell_type": "code",
   "execution_count": 29,
   "id": "6f53b802-d1c3-4ec8-9048-dc8af02484af",
   "metadata": {},
   "outputs": [
    {
     "name": "stdout",
     "output_type": "stream",
     "text": [
      "Confusion matrix (rows: true 0/1, cols: pred 0/1):\n",
      " [[56850    14]\n",
      " [   19    79]]\n",
      "              precision    recall  f1-score   support\n",
      "\n",
      "           0     0.9997    0.9998    0.9997     56864\n",
      "           1     0.8495    0.8061    0.8272        98\n",
      "\n",
      "    accuracy                         0.9994     56962\n",
      "   macro avg     0.9246    0.9029    0.9135     56962\n",
      "weighted avg     0.9994    0.9994    0.9994     56962\n",
      "\n"
     ]
    }
   ],
   "source": [
    "thr = best_threshold\n",
    "y_pred_thr = (y_prob_lr >= thr).astype(int)\n",
    "cm = confusion_matrix(y_test, y_pred_thr)\n",
    "print(\"Confusion matrix (rows: true 0/1, cols: pred 0/1):\\n\", cm)\n",
    "print(classification_report(y_test, y_pred_thr, digits=4))\n"
   ]
  },
  {
   "cell_type": "code",
   "execution_count": 36,
   "id": "fb8b4fc3-a54f-4cba-9e95-a6c64da31e4a",
   "metadata": {},
   "outputs": [
    {
     "name": "stdout",
     "output_type": "stream",
     "text": [
      "RF ROC-AUC: 0.9571890288895525\n",
      "RF PR-AUC: 0.8589278575500874\n"
     ]
    }
   ],
   "source": [
    "rf = RandomForestClassifier(n_estimators=200, class_weight='balanced', random_state=42, n_jobs=-1)\n",
    "rf.fit(X_train_scaled, y_train)\n",
    "y_prob_rf = rf.predict_proba(X_test_scaled)[:,1]\n",
    "\n",
    "print(\"RF ROC-AUC:\", roc_auc_score(y_test, y_prob_rf))\n",
    "print(\"RF PR-AUC:\", average_precision_score(y_test, y_prob_rf))\n"
   ]
  },
  {
   "cell_type": "code",
   "execution_count": 40,
   "id": "1c8dd49c-607b-4052-b1e1-a2c2e84abae4",
   "metadata": {},
   "outputs": [
    {
     "data": {
      "image/png": "[encoded data removed]",
      "text/plain": [
       "<Figure size 640x480 with 1 Axes>"
      ]
     },
     "metadata": {},
     "output_type": "display_data"
    }
   ],
   "source": [
    "fpr, tpr, _ = roc_curve(y_test, y_prob_lr)\n",
    "plt.plot(fpr, tpr, label=\"Logistic Regression\")\n",
    "plt.xlabel(\"False Positive Rate\")\n",
    "plt.ylabel(\"True Positive Rate\")\n",
    "plt.title(\"ROC Curve\")\n",
    "plt.legend()\n",
    "plt.show()\n"
   ]
  },
  {
   "cell_type": "code",
   "execution_count": 42,
   "id": "e610cefe-ec67-4c23-8ad1-1101f9eb4bdf",
   "metadata": {},
   "outputs": [
    {
     "data": {
      "image/png": "[encoded data removed]",
      "text/plain": [
       "<Figure size 640x480 with 2 Axes>"
      ]
     },
     "metadata": {},
     "output_type": "display_data"
    }
   ],
   "source": [
    "from sklearn.metrics import ConfusionMatrixDisplay\n",
    "ConfusionMatrixDisplay.from_estimator(lr, X_test_scaled, y_test)\n",
    "plt.show()\n"
   ]
  },
  {
   "cell_type": "code",
   "execution_count": 44,
   "id": "6960ed2b-5853-4ae3-9d10-cbde914ffb04",
   "metadata": {},
   "outputs": [
    {
     "name": "stdout",
     "output_type": "stream",
     "text": [
      "Resampled fraud rate: 0.5\n",
      "PR-AUC: 0.8738230141679699\n"
     ]
    }
   ],
   "source": [
    "from imblearn.over_sampling import SMOTE\n",
    "\n",
    "sm = SMOTE(random_state=42)\n",
    "X_res, y_res = sm.fit_resample(X_train_scaled, y_train)\n",
    "print(\"Resampled fraud rate:\", y_res.mean())\n",
    "\n",
    "rf = RandomForestClassifier(n_estimators=200, random_state=42)\n",
    "rf.fit(X_res, y_res)\n",
    "print(\"PR-AUC:\", average_precision_score(y_test, rf.predict_proba(X_test_scaled)[:,1]))\n"
   ]
  },
  {
   "cell_type": "code",
   "execution_count": 38,
   "id": "242a09ec-6fae-4fb4-8bdb-23ce0d075e2b",
   "metadata": {},
   "outputs": [
    {
     "name": "stdout",
     "output_type": "stream",
     "text": [
      "Saved model to best_model.joblib\n"
     ]
    }
   ],
   "source": [
    "# pick rf or rf_sm depending on best performance\n",
    "best_model = rf  # or rf_sm / lr / xgb\n",
    "joblib.dump(best_model, \"best_model.joblib\")\n",
    "print(\"Saved model to best_model.joblib\")\n"
   ]
  },
  {
   "cell_type": "code",
   "execution_count": null,
   "id": "961fb71d-681b-4efe-a3f2-ac45222305b2",
   "metadata": {},
   "outputs": [],
   "source": []
  }
 ],
 "metadata": {
  "kernelspec": {
   "display_name": "Python [conda env:base] *",
   "language": "python",
   "name": "conda-base-py"
  },
  "language_info": {
   "codemirror_mode": {
    "name": "ipython",
    "version": 3
   },
   "file_extension": ".py",
   "mimetype": "text/x-python",
   "name": "python",
   "nbconvert_exporter": "python",
   "pygments_lexer": "ipython3",
   "version": "3.12.7"
  }
 },
 "nbformat": 4,
 "nbformat_minor": 5
}
